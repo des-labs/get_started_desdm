{
 "cells": [
  {
   "cell_type": "code",
   "execution_count": null,
   "metadata": {},
   "outputs": [],
   "source": [
    "import requests\n",
    "root = 'https://deslabs.ncsa.illinois.edu/easyweb/api'\n",
    "import pandas as pd"
   ]
  },
  {
   "cell_type": "markdown",
   "metadata": {},
   "source": [
    "### Create a new token"
   ]
  },
  {
   "cell_type": "code",
   "execution_count": null,
   "metadata": {},
   "outputs": [],
   "source": [
    "post_data = {\n",
    "    'username': 'your-dessci-username',\n",
    "    'password': 'your-dessci-password'\n",
    "}"
   ]
  },
  {
   "cell_type": "code",
   "execution_count": null,
   "metadata": {},
   "outputs": [],
   "source": [
    "req = requests.post(root+'/v1/token/',data=post_data, verify=False)\n",
    "print('url  : {}\\n'.format(req.url))\n",
    "print('code : {}\\n'.format(req.status_code))\n",
    "print('msg  : {}'.format(req.text))\n",
    "token = req.json()['token']"
   ]
  },
  {
   "cell_type": "markdown",
   "metadata": {},
   "source": [
    "### Check Token status"
   ]
  },
  {
   "cell_type": "code",
   "execution_count": null,
   "metadata": {},
   "outputs": [],
   "source": [
    "req = requests.get(root+'/v1/token/?token={}'.format(token), verify=False)\n",
    "print('url  : {}\\n'.format(req.url))\n",
    "print('code : {}\\n'.format(req.status_code))\n",
    "print('msg  : {}'.format(req.text))"
   ]
  },
  {
   "cell_type": "markdown",
   "metadata": {},
   "source": [
    "### Query Job"
   ]
  },
  {
   "cell_type": "code",
   "execution_count": null,
   "metadata": {},
   "outputs": [],
   "source": [
    "#query\n",
    "q = \"select * from (select ra,dec from y3a2_coadd_object_summary) where rownum < 10\"\n",
    "# create body of POST request\n",
    "body = {\n",
    "    'token'       : token,\n",
    "    'query'       :  q,\n",
    "    'db'          : 'dessci',\n",
    "    'output'      : 'test.csv',\n",
    "    'compression' : 'no',\n",
    "    'email'       : '',\n",
    "    'jobname'     : 'api_test2'\n",
    "}"
   ]
  },
  {
   "cell_type": "code",
   "execution_count": null,
   "metadata": {},
   "outputs": [],
   "source": [
    "req = requests.post(root+'/v1/query/', data=body, verify=False)\n",
    "print('url  : {}\\n'.format(req.url))\n",
    "print('code : {}\\n'.format(req.status_code))\n",
    "print('msg  : {}'.format(req.text))\n",
    "job = req.json()['jobid']"
   ]
  },
  {
   "cell_type": "markdown",
   "metadata": {},
   "source": [
    "### Check Job by its id"
   ]
  },
  {
   "cell_type": "code",
   "execution_count": null,
   "metadata": {},
   "outputs": [],
   "source": [
    "body = {\n",
    "    'token'       : token,\n",
    "    'jobid'       : job\n",
    "}"
   ]
  },
  {
   "cell_type": "code",
   "execution_count": null,
   "metadata": {},
   "outputs": [],
   "source": [
    "req = requests.post(root+'/v1/jobs/', data=body, verify=False)\n",
    "print('url  : {}\\n'.format(req.url))\n",
    "print('code : {}\\n'.format(req.status_code))\n",
    "print('msg  : {}'.format(req.text))"
   ]
  },
  {
   "cell_type": "code",
   "execution_count": null,
   "metadata": {},
   "outputs": [],
   "source": [
    "for f  in req.json()['files']:\n",
    "    print(f)"
   ]
  },
  {
   "cell_type": "markdown",
   "metadata": {},
   "source": [
    "### Check all Jobs"
   ]
  },
  {
   "cell_type": "code",
   "execution_count": null,
   "metadata": {},
   "outputs": [],
   "source": [
    "body = {\n",
    "    'token'       : token,\n",
    "    'jobid'       : 'all'\n",
    "}"
   ]
  },
  {
   "cell_type": "code",
   "execution_count": null,
   "metadata": {},
   "outputs": [],
   "source": [
    "req = requests.post(root+'/v1/jobs/', data=body, verify=False)\n",
    "print('url  : {}\\n'.format(req.url))\n",
    "print('code : {}\\n'.format(req.status_code))\n",
    "print('msg  : {}'.format(req.text))"
   ]
  },
  {
   "cell_type": "code",
   "execution_count": null,
   "metadata": {},
   "outputs": [],
   "source": [
    "df = pd.DataFrame.from_dict(req.json())\n",
    "df = df.drop(['msg', 'status'], axis=1)"
   ]
  },
  {
   "cell_type": "code",
   "execution_count": null,
   "metadata": {},
   "outputs": [],
   "source": [
    "df"
   ]
  },
  {
   "cell_type": "markdown",
   "metadata": {},
   "source": [
    "### Delete a Job"
   ]
  },
  {
   "cell_type": "code",
   "execution_count": null,
   "metadata": {},
   "outputs": [],
   "source": [
    "body = {\n",
    "    'token'       : token,\n",
    "    'jobid'       : job\n",
    "}"
   ]
  },
  {
   "cell_type": "code",
   "execution_count": null,
   "metadata": {},
   "outputs": [],
   "source": [
    "req = requests.delete(root+'/v1/jobs/', data=body, verify=False)\n",
    "print('url  : {}\\n'.format(req.url))\n",
    "print('code : {}\\n'.format(req.status_code))\n",
    "print('msg  : {}'.format(req.text))"
   ]
  },
  {
   "cell_type": "markdown",
   "metadata": {},
   "source": [
    "### Delete All Jobs"
   ]
  },
  {
   "cell_type": "code",
   "execution_count": null,
   "metadata": {},
   "outputs": [],
   "source": [
    "body['jobid'] = 'all'\n",
    "all_jobs = requests.post(root+'/v1/jobs/', data=body, verify=False)"
   ]
  },
  {
   "cell_type": "code",
   "execution_count": null,
   "metadata": {},
   "outputs": [],
   "source": [
    "for j in range(len(all_jobs.json()['job_id'])):\n",
    "    body['jobid'] = all_jobs.json()['job_id'][j]\n",
    "    req = requests.delete(root+'/v1/jobs/', data=body, verify=False)\n",
    "    print(req.text)"
   ]
  },
  {
   "cell_type": "markdown",
   "metadata": {},
   "source": [
    "## Cutouts (with ra/dec input list)"
   ]
  },
  {
   "cell_type": "code",
   "execution_count": null,
   "metadata": {},
   "outputs": [],
   "source": [
    "ra = [36.5278, 30.8839]\n",
    "dec = [-10.0994, -38.0092]\n",
    "xs = 1.0\n",
    "ys = 1.0\n",
    "# create body of request\n",
    "body = {\n",
    "    'token'        :  token,        # required\n",
    "    'ra'           : str(ra),       # required of coadd/coord/csvfile\n",
    "    'dec'          : str(dec),      # required of coadd/coord/csvfile\n",
    "    'xsize'        : str(xs),       # required (default : 1.0)\n",
    "    'ysize'        : str(ys),       # required (default : 1.0)\n",
    "    'jobname'      : 'test ra/dec list',        # optional (default : 'false') 'true': will not generate pngs (faster)\n",
    "    'make_tiffs'   : 'false',       # optional\n",
    "    'make_pngs'    : 'true',        # optional\n",
    "    'make_fits'    : 'false',       # optional\n",
    "    'colors'       : 'g,r,i,z,y',   # required if make_fits is true; pick any or all bands\n",
    "}\n",
    "req = requests.post(root+'/v1/cutout/',data=body, verify=False)\n",
    "print('url  : {}\\n'.format(req.url))\n",
    "print('code : {}\\n'.format(req.status_code))\n",
    "print('msg  : {}'.format(req.text))\n",
    "job = req.json()['jobid']"
   ]
  },
  {
   "cell_type": "markdown",
   "metadata": {},
   "source": [
    "## Cutouts (with coadd input list)"
   ]
  },
  {
   "cell_type": "code",
   "execution_count": null,
   "metadata": {},
   "outputs": [],
   "source": [
    "coadd = [353115749, 353099273]\n",
    "xs = 1.0\n",
    "ys = 1.0\n",
    "# create body of request\n",
    "body = {\n",
    "    'token'        :  token,        # required\n",
    "    'coadd'        : str(coadd),    # required of coadd/coord/csvfile\n",
    "    'xsize'        : str(xs),       # required (default : 1.0)\n",
    "    'ysize'        : str(ys),       # required (default : 1.0)\n",
    "    'jobname'      : 'test coadd list',        # optional (default : 'false') 'true': will not generate pngs (faster)\n",
    "    'make_tiffs'   : 'false',       # optional\n",
    "    'make_pngs'    : 'true',        # optional\n",
    "    'make_fits'    : 'false',       # optional\n",
    "    'colors'       : 'g,r,i,z,y',   # required if make_fits is true; pick any or all bands\n",
    "}\n",
    "req = requests.post(root+'/v1/cutout/',data=body, verify=False)\n",
    "print('url  : {}\\n'.format(req.url))\n",
    "print('code : {}\\n'.format(req.status_code))\n",
    "print('msg  : {}'.format(req.text))\n",
    "job = req.json()['jobid']"
   ]
  },
  {
   "cell_type": "markdown",
   "metadata": {},
   "source": [
    "## Cutouts (with CSV input)"
   ]
  },
  {
   "cell_type": "code",
   "execution_count": null,
   "metadata": {},
   "outputs": [],
   "source": [
    "csvfile = '/path/to/csv/file.csv'\n",
    "files = {'csvfile' : ('cf', open(csvfile, 'rb'), 'text/csv', {'Expires':'0'})}\n",
    "xs = 1.0\n",
    "ys = 1.0\n",
    "# create body of request\n",
    "body = {\n",
    "    'token'        :  token,        # required\n",
    "    'csvfile'      :  csvfile,      # required of coadd/coord/csvfile\n",
    "    'xsize'        : str(xs),       # required (default : 1.0)\n",
    "    'ysize'        : str(ys),       # required (default : 1.0)\n",
    "    'jobname'      : 'test csvfile',        # optional (default : 'false') 'true': will not generate pngs (faster)\n",
    "    'make_tiffs'   : 'false',       # optional\n",
    "    'make_pngs'    : 'true',        # optional\n",
    "    'make_fits'    : 'false',       # optional\n",
    "    'colors'       : 'g,r,i,z,y',   # required if make_fits is true; pick any or all bands\n",
    "}\n",
    "req = requests.post(root+'/v1/cutout/',data=body, files=files, verify=False)\n",
    "print('url  : {}\\n'.format(req.url))\n",
    "print('code : {}\\n'.format(req.status_code))\n",
    "print('msg  : {}'.format(req.text))\n",
    "job = req.json()['jobid']"
   ]
  },
  {
   "cell_type": "markdown",
   "metadata": {},
   "source": [
    "## Finding Chart (with ra/dec input list)"
   ]
  },
  {
   "cell_type": "code",
   "execution_count": null,
   "metadata": {},
   "outputs": [],
   "source": [
    "ra = [36.5278, 30.8839]\n",
    "dec = [-10.0994, -38.0092]\n",
    "xs = 1.0\n",
    "ys = 1.0\n",
    "magnitude_limit = 20.0\n",
    "# create body of request\n",
    "body = {\n",
    "    'token'        :  token,        # required\n",
    "    'ra'           : str(ra),       # required of coadd/coord/csvfile\n",
    "    'dec'          : str(dec),      # required of coadd/coord/csvfile\n",
    "    'xsize'        : str(xs),       # required (default : 1.0)\n",
    "    'ysize'        : str(ys),       # required (default : 1.0)\n",
    "    'mag_limit'    : str(magnitude_limit),      # required; recommended 20.0\n",
    "    'jobname'      : 'test ra/dec list',        # optional (default : 'false') 'true': will not generate pngs (faster)\n",
    "    'colors'       : 'i',           # required; pick any or all bands\n",
    "    'return_cut'   : 'true',        # required\n",
    "}\n",
    "req = requests.post(root+'/v1/chart/',data=body, verify=False)\n",
    "print('url  : {}\\n'.format(req.url))\n",
    "print('code : {}\\n'.format(req.status_code))\n",
    "print('msg  : {}'.format(req.text))\n",
    "job = req.json()['jobid']"
   ]
  },
  {
   "cell_type": "markdown",
   "metadata": {},
   "source": [
    "## Finding Chart (with CSV input)"
   ]
  },
  {
   "cell_type": "code",
   "execution_count": null,
   "metadata": {},
   "outputs": [],
   "source": [
    "csvfile = '/path/to/csv/file.csv'\n",
    "files = {'csvfile' : ('cf', open(csvfile, 'rb'), 'text/csv', {'Expires':'0'})}\n",
    "xs = 1.0\n",
    "ys = 1.0\n",
    "magnitude_limit = 20.0\n",
    "# create body of request\n",
    "body = {\n",
    "    'token'        :  token,        # required\n",
    "    'csvfile'      :  csvfile,      # required of coadd/coord/csvfile\n",
    "    'xsize'        : str(xs),       # required (default : 1.0)\n",
    "    'ysize'        : str(ys),       # required (default : 1.0)\n",
    "    'mag_limit'    : str(magnitude_limit),      # required; recommended 20.0\n",
    "    'jobname'      : 'test csvfile',            # optional (default : 'false') 'true': will not generate pngs (faster)\n",
    "    'colors'       : 'i',           # required; pick any or all bands\n",
    "    'return_cut'   : 'true',        # required\n",
    "}\n",
    "req = requests.post(root+'/v1/chart/',data=body, files=files, verify=False)\n",
    "print('url  : {}\\n'.format(req.url))\n",
    "print('code : {}\\n'.format(req.status_code))\n",
    "print('msg  : {}'.format(req.text))\n",
    "job = req.json()['jobid']"
   ]
  },
  {
   "cell_type": "code",
   "execution_count": null,
   "metadata": {},
   "outputs": [],
   "source": [
    "body = {\n",
    "    'token'       : token,\n",
    "    'jobid'       : job\n",
    "}"
   ]
  },
  {
   "cell_type": "code",
   "execution_count": null,
   "metadata": {},
   "outputs": [],
   "source": [
    "req = requests.post(root+'/v1/jobs/', data=body, verify=False)\n",
    "print('url  : {}\\n'.format(req.url))\n",
    "print('code : {}\\n'.format(req.status_code))\n",
    "print('msg  : {}'.format(req.text))"
   ]
  },
  {
   "cell_type": "code",
   "execution_count": null,
   "metadata": {},
   "outputs": [],
   "source": [
    "for f  in req.json()['files']:\n",
    "    print(f)"
   ]
  },
  {
   "cell_type": "code",
   "execution_count": null,
   "metadata": {},
   "outputs": [],
   "source": []
  }
 ],
 "metadata": {
  "kernelspec": {
   "display_name": "Python 3",
   "language": "python",
   "name": "python3"
  },
  "language_info": {
   "codemirror_mode": {
    "name": "ipython",
    "version": 3
   },
   "file_extension": ".py",
   "mimetype": "text/x-python",
   "name": "python",
   "nbconvert_exporter": "python",
   "pygments_lexer": "ipython3",
   "version": "3.6.7"
  }
 },
 "nbformat": 4,
 "nbformat_minor": 2
}
