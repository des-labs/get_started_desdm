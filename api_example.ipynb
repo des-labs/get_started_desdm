{
 "cells": [
  {
   "cell_type": "code",
   "execution_count": null,
   "metadata": {},
   "outputs": [],
   "source": [
    "import requests\n",
    "import urllib3\n",
    "urllib3.disable_warnings(urllib3.exceptions.InsecureRequestWarning)\n",
    "import pandas as pd\n",
    "import getpass\n",
    "import os\n",
    "from IPython.display import Image, display\n",
    "import glob\n",
    "import json\n",
    "root = 'https://deslabs.ncsa.illinois.edu/easyweb/api'"
   ]
  },
  {
   "cell_type": "markdown",
   "metadata": {},
   "source": [
    "### Authenticate "
   ]
  },
  {
   "cell_type": "code",
   "execution_count": null,
   "metadata": {},
   "outputs": [],
   "source": [
    "user = 'mcarras2'\n",
    "passwd = getpass.getpass()"
   ]
  },
  {
   "cell_type": "markdown",
   "metadata": {},
   "source": [
    "### Create a new token\n",
    "This will be used to submit jobs, it can be re-created any time"
   ]
  },
  {
   "cell_type": "code",
   "execution_count": null,
   "metadata": {},
   "outputs": [],
   "source": [
    "post_data = {\n",
    "    'username': user,\n",
    "    'password': passwd\n",
    "}"
   ]
  },
  {
   "cell_type": "code",
   "execution_count": null,
   "metadata": {},
   "outputs": [],
   "source": [
    "req = requests.post(root+'/v1/token/',data=post_data, verify=False)\n",
    "print('url  : {}\\n'.format(req.url))\n",
    "print('code : {}\\n'.format(req.status_code))\n",
    "print('msg  : {}'.format(req.text))\n",
    "token = req.json()['token']\n",
    "print(f'Token: {token}')"
   ]
  },
  {
   "cell_type": "markdown",
   "metadata": {},
   "source": [
    "### Check Token status"
   ]
  },
  {
   "cell_type": "code",
   "execution_count": null,
   "metadata": {},
   "outputs": [],
   "source": [
    "req = requests.get(root+'/v1/token/?token={}'.format(token), verify=False)\n",
    "print('url  : {}\\n'.format(req.url))\n",
    "print('code : {}\\n'.format(req.status_code))\n",
    "print('msg  : {}'.format(req.text))"
   ]
  },
  {
   "cell_type": "markdown",
   "metadata": {},
   "source": [
    "### Sumbit a Query Job"
   ]
  },
  {
   "cell_type": "code",
   "execution_count": null,
   "metadata": {},
   "outputs": [],
   "source": [
    "#query\n",
    "q = \"select ra,dec from y3a2_coadd_object_summary where rownum < 100\"\n",
    "# create body of POST request\n",
    "body = {\n",
    "    'token'       : token,\n",
    "    'query'       :  q,\n",
    "    'db'          : 'dessci',\n",
    "    'output'      : 'test.csv',\n",
    "    'compression' : 'no',\n",
    "    'email'       : '',\n",
    "    'jobname'     : 'api_test2'\n",
    "}"
   ]
  },
  {
   "cell_type": "code",
   "execution_count": null,
   "metadata": {},
   "outputs": [],
   "source": [
    "req = requests.post(root+'/v1/query/', data=body, verify=False)\n",
    "print('url  : {}\\n'.format(req.url))\n",
    "print('code : {}\\n'.format(req.status_code))\n",
    "print('msg  : {}'.format(req.text))\n",
    "job = req.json()['jobid']\n",
    "print(f'Job id: {job}')"
   ]
  },
  {
   "cell_type": "markdown",
   "metadata": {},
   "source": [
    "### Check Job by its id"
   ]
  },
  {
   "cell_type": "code",
   "execution_count": null,
   "metadata": {},
   "outputs": [],
   "source": [
    "body = {\n",
    "    'token'       : token,\n",
    "    'jobid'       : job\n",
    "}"
   ]
  },
  {
   "cell_type": "code",
   "execution_count": null,
   "metadata": {},
   "outputs": [],
   "source": [
    "req = requests.post(root+'/v1/jobs/', data=body, verify=False)\n",
    "print('url  : {}\\n'.format(req.url))\n",
    "print('code : {}\\n'.format(req.status_code))\n",
    "print('msg  : {}'.format(req.text))"
   ]
  },
  {
   "cell_type": "code",
   "execution_count": null,
   "metadata": {},
   "outputs": [],
   "source": [
    "for f  in req.json()['files']:\n",
    "    print(f)"
   ]
  },
  {
   "cell_type": "markdown",
   "metadata": {},
   "source": [
    "### Check all Jobs"
   ]
  },
  {
   "cell_type": "code",
   "execution_count": null,
   "metadata": {},
   "outputs": [],
   "source": [
    "body = {\n",
    "    'token'       : token,\n",
    "    'jobid'       : 'all'\n",
    "}"
   ]
  },
  {
   "cell_type": "code",
   "execution_count": null,
   "metadata": {},
   "outputs": [],
   "source": [
    "req = requests.post(root+'/v1/jobs/', data=body, verify=False)\n",
    "print('url  : {}\\n'.format(req.url))\n",
    "print('code : {}\\n'.format(req.status_code))\n",
    "print('msg  : {}'.format(req.text))"
   ]
  },
  {
   "cell_type": "code",
   "execution_count": null,
   "metadata": {},
   "outputs": [],
   "source": [
    "df = pd.DataFrame.from_dict(req.json())\n",
    "df = df.drop(['msg', 'status'], axis=1)"
   ]
  },
  {
   "cell_type": "code",
   "execution_count": null,
   "metadata": {},
   "outputs": [],
   "source": [
    "df"
   ]
  },
  {
   "cell_type": "markdown",
   "metadata": {},
   "source": [
    "### Delete a Job"
   ]
  },
  {
   "cell_type": "code",
   "execution_count": null,
   "metadata": {},
   "outputs": [],
   "source": [
    "body = {\n",
    "    'token'       : token,\n",
    "    'jobid'       : job\n",
    "}"
   ]
  },
  {
   "cell_type": "code",
   "execution_count": null,
   "metadata": {},
   "outputs": [],
   "source": [
    "req = requests.delete(root+'/v1/jobs/', data=body, verify=False)\n",
    "print('url  : {}\\n'.format(req.url))\n",
    "print('code : {}\\n'.format(req.status_code))\n",
    "print('msg  : {}'.format(req.text))"
   ]
  },
  {
   "cell_type": "markdown",
   "metadata": {},
   "source": [
    "### Delete All Jobs"
   ]
  },
  {
   "cell_type": "code",
   "execution_count": null,
   "metadata": {},
   "outputs": [],
   "source": [
    "body['jobid'] = 'all'\n",
    "all_jobs = requests.post(root+'/v1/jobs/', data=body, verify=False)"
   ]
  },
  {
   "cell_type": "markdown",
   "metadata": {},
   "source": [
    "### !! Uncomment these lines if you really want to delete all jobs"
   ]
  },
  {
   "cell_type": "code",
   "execution_count": null,
   "metadata": {},
   "outputs": [],
   "source": [
    "# for j in range(len(all_jobs.json()['job_id'])):\n",
    "#     body['jobid'] = all_jobs.json()['job_id'][j]\n",
    "#     req = requests.delete(root+'/v1/jobs/', data=body, verify=False)\n",
    "#     print(req.text)"
   ]
  },
  {
   "cell_type": "markdown",
   "metadata": {},
   "source": [
    "## Cutouts (with ra/dec input list)"
   ]
  },
  {
   "cell_type": "code",
   "execution_count": null,
   "metadata": {},
   "outputs": [],
   "source": [
    "ra = [27.982411, 22.922076, 56.337698]\n",
    "dec = [-43.656078, -42.093011, -61.875547]\n",
    "xs = 1.0\n",
    "ys = 1.0\n",
    "# create body of request\n",
    "body = {\n",
    "    'token'            :  token,        # required\n",
    "    'ra'               : str(ra),       # required of coadd/coord/csvfile\n",
    "    'dec'              : str(dec),      # required of coadd/coord/csvfile\n",
    "    'xsize'            : str(xs),       # required (default : 1.0)\n",
    "    'ysize'            : str(ys),       # required (default : 1.0)\n",
    "    'jobname'          : 'test ra/dec list',        # optional (default : 'false') 'true': will not generate pngs (faster)\n",
    "    'make_stiff_rgb'   : 'true',       # optional\n",
    "    'make_lupton_rgb'  : 'true',        # optional\n",
    "    'make_fits'        : 'false',       # optional\n",
    "    'rgb_values'       : 'i,r,g',\n",
    "    'bands'            : 'g,r,i,z,y',   # required if make_fits is true; pick any or all bands\n",
    "}\n",
    "req = requests.post(root+'/v1/cutout/',data=body, verify=False)\n",
    "print('url  : {}\\n'.format(req.url))\n",
    "print('code : {}\\n'.format(req.status_code))\n",
    "print('msg  : {}'.format(req.text))\n",
    "job = req.json()['jobid']"
   ]
  },
  {
   "cell_type": "code",
   "execution_count": null,
   "metadata": {},
   "outputs": [],
   "source": [
    "body = {'token':token,'jobid':job}\n",
    "req = requests.post(root+'/v1/jobs/', data=body, verify=False)\n",
    "print('url  : {}\\n'.format(req.url))\n",
    "print('code : {}\\n'.format(req.status_code))\n",
    "print('msg  : {}'.format(req.text))"
   ]
  },
  {
   "cell_type": "code",
   "execution_count": null,
   "metadata": {},
   "outputs": [],
   "source": [
    "list_pngs = glob.glob('../../jobs/{0}/*/*.png'.format(job))\n",
    "for i in range(len(list_pngs)):\n",
    "    x = Image(list_pngs[i])\n",
    "    display(x)"
   ]
  },
  {
   "cell_type": "markdown",
   "metadata": {},
   "source": [
    "## Cutouts (with coadd input list)"
   ]
  },
  {
   "cell_type": "code",
   "execution_count": null,
   "metadata": {},
   "outputs": [],
   "source": [
    "coadd = [192849936, 267703666]\n",
    "xs = 1.0\n",
    "ys = 1.0\n",
    "# create body of request\n",
    "body = {\n",
    "    'token'            :  token,        # required\n",
    "    'coadd'        : str(coadd),    # required of coadd/coord/csvfile\n",
    "    'xsize'            : str(xs),       # required (default : 1.0)\n",
    "    'ysize'            : str(ys),       # required (default : 1.0)\n",
    "    'jobname'          : 'test ra/dec list',        # optional (default : 'false') 'true': will not generate pngs (faster)\n",
    "    'make_stiff_rgb'   : 'false',       # optional\n",
    "    'make_lupton_rgb'  : 'true',        # optional\n",
    "    'make_fits'        : 'false',       # optional\n",
    "    'rgb_values'       : 'i,r,g',\n",
    "    'bands'            : 'g,r,i,z,y',   # required if make_fits is true; pick any or all bands\n",
    "}\n",
    "req = requests.post(root+'/v1/cutout/',data=body, verify=False)\n",
    "print('url  : {}\\n'.format(req.url))\n",
    "print('code : {}\\n'.format(req.status_code))\n",
    "print('msg  : {}'.format(req.text))\n",
    "job = req.json()['jobid']"
   ]
  },
  {
   "cell_type": "markdown",
   "metadata": {},
   "source": [
    "## Cutouts (with CSV input)"
   ]
  },
  {
   "cell_type": "code",
   "execution_count": null,
   "metadata": {},
   "outputs": [],
   "source": [
    "#Lets get a file first\n",
    "#query\n",
    "q = \"select ra,dec from y3a2_coadd_object_summary where rownum < 5\"\n",
    "# create body of POST request\n",
    "body = {\n",
    "    'token'       : token,\n",
    "    'query'       :  q,\n",
    "    'db'          : 'dessci',\n",
    "    'output'      : 'test.csv',\n",
    "    'compression' : 'no',\n",
    "    'email'       : '',\n",
    "    'jobname'     : 'api_test'\n",
    "}\n",
    "req = requests.post(root+'/v1/query/', data=body, verify=False)\n",
    "print('msg  : {}'.format(req.text))\n",
    "job = req.json()['jobid']\n",
    "print(f'Job id: {job}')"
   ]
  },
  {
   "cell_type": "code",
   "execution_count": null,
   "metadata": {},
   "outputs": [],
   "source": [
    "body = {'token': token,'jobid': job}\n",
    "req = requests.post(root+'/v1/jobs/', data=body, verify=False)\n",
    "print('msg  : {}'.format(req.text))\n",
    "for f_url  in req.json()['files']:\n",
    "    print(f_url)\n",
    "    filename = os.path.basename(f_url)\n",
    "    r = requests.get(f_url)\n",
    "    with open(filename, 'wb') as f:  \n",
    "        f.write(r.content)"
   ]
  },
  {
   "cell_type": "code",
   "execution_count": null,
   "metadata": {},
   "outputs": [],
   "source": [
    "csvfile = 'test.csv'\n",
    "files = {'csvfile' : ('cf', open(csvfile, 'rb'), 'text/csv', {'Expires':'0'})}\n",
    "xs = 1.0\n",
    "ys = 1.0\n",
    "# create body of request\n",
    "body = {\n",
    "    'token'            :  token,        # required\n",
    "    'csvfile'      :  csvfile,      # required of coadd/coord/csvfile\n",
    "    'xsize'            : str(xs),       # required (default : 1.0)\n",
    "    'ysize'            : str(ys),       # required (default : 1.0)\n",
    "    'jobname'          : 'test ra/dec list',        # optional (default : 'false') 'true': will not generate pngs (faster)\n",
    "    'make_stiff_rgb'   : 'false',       # optional\n",
    "    'make_lupton_rgb'  : 'true',        # optional\n",
    "    'make_fits'        : 'false',       # optional\n",
    "    'rgb_values'       : 'i,r,g',\n",
    "    'bands'            : 'g,r,i,z,y',   # required if make_fits is true; pick any or all bands\n",
    "}\n",
    "req = requests.post(root+'/v1/cutout/',data=body, files=files, verify=False)\n",
    "print('url  : {}\\n'.format(req.url))\n",
    "print('code : {}\\n'.format(req.status_code))\n",
    "print('msg  : {}'.format(req.text))\n",
    "job = req.json()['jobid']"
   ]
  },
  {
   "cell_type": "code",
   "execution_count": null,
   "metadata": {},
   "outputs": [],
   "source": []
  }
 ],
 "metadata": {
  "kernelspec": {
   "display_name": "Python 3",
   "language": "python",
   "name": "python3"
  },
  "language_info": {
   "codemirror_mode": {
    "name": "ipython",
    "version": 3
   },
   "file_extension": ".py",
   "mimetype": "text/x-python",
   "name": "python",
   "nbconvert_exporter": "python",
   "pygments_lexer": "ipython3",
   "version": "3.6.8"
  }
 },
 "nbformat": 4,
 "nbformat_minor": 2
}
