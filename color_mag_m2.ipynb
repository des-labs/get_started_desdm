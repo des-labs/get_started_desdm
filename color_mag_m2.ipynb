{
 "cells": [
  {
   "cell_type": "markdown",
   "metadata": {},
   "source": [
    "### Simple Color-Magnitude Diagram for Globular Cluster [M2](https://en.wikipedia.org/wiki/Messier_2)"
   ]
  },
  {
   "cell_type": "code",
   "execution_count": null,
   "metadata": {},
   "outputs": [],
   "source": [
    "%matplotlib inline\n",
    "import getpass\n",
    "import matplotlib\n",
    "import matplotlib.pyplot as plt\n",
    "import pandas as pd\n",
    "import seaborn as sbn"
   ]
  },
  {
   "cell_type": "code",
   "execution_count": null,
   "metadata": {},
   "outputs": [],
   "source": [
    "username = getpass.getuser()\n",
    "print('Your username is {0}'.format(username))"
   ]
  },
  {
   "cell_type": "markdown",
   "metadata": {},
   "source": [
    "We use a set of parameters that has been defined for DES (for consistency)"
   ]
  },
  {
   "cell_type": "code",
   "execution_count": null,
   "metadata": {},
   "outputs": [],
   "source": [
    "matplotlib.style.use('/home/{user}/.config/matplotlib/stylelib/des_dr1.mplstyle'.format(user=username),)"
   ]
  },
  {
   "cell_type": "markdown",
   "metadata": {},
   "source": [
    "The content of the setup is shown below:"
   ]
  },
  {
   "cell_type": "code",
   "execution_count": null,
   "metadata": {},
   "outputs": [],
   "source": [
    "! cat $HOME/.config/matplotlib/stylelib/des_dr1.mplstyle"
   ]
  },
  {
   "cell_type": "markdown",
   "metadata": {},
   "source": [
    "### We now define the [easyaccess](https://github.com/mgckind/easyaccess) connection"
   ]
  },
  {
   "cell_type": "code",
   "execution_count": null,
   "metadata": {},
   "outputs": [],
   "source": [
    "import easyaccess as ea"
   ]
  },
  {
   "cell_type": "markdown",
   "metadata": {},
   "source": [
    "Remember the default connection is to `dessci` database schema"
   ]
  },
  {
   "cell_type": "code",
   "execution_count": null,
   "metadata": {},
   "outputs": [],
   "source": [
    "con = ea.connect()"
   ]
  },
  {
   "cell_type": "code",
   "execution_count": null,
   "metadata": {},
   "outputs": [],
   "source": [
    "query = \"\"\"\n",
    "SELECT \n",
    " COADD_OBJECT_ID,RA,DEC, \n",
    " MAG_AUTO_G G,\n",
    " MAG_AUTO_R R,\n",
    " WAVG_MAG_PSF_G G_PSF,\n",
    " WAVG_MAG_PSF_R R_PSF\n",
    "FROM Y3_GOLD_2_2\n",
    "WHERE\n",
    "  RA between 323.36-0.12 and 323.36+0.12 and \n",
    "  DEC between -0.82-0.12 and -0.82+0.12 and\n",
    "  WAVG_SPREAD_MODEL_I + 3.0*WAVG_SPREADERR_MODEL_I < 0.005 and \n",
    "  WAVG_SPREAD_MODEL_I > -1 and \n",
    "  IMAFLAGS_ISO_G = 0 and\n",
    "  IMAFLAGS_ISO_R = 0 and\n",
    "  SEXTRACTOR_FLAGS_G < 4 and\n",
    "  SEXTRACTOR_FLAGS_R < 4\n",
    "\"\"\""
   ]
  },
  {
   "cell_type": "markdown",
   "metadata": {},
   "source": [
    "We can use the flexibility of pandas out of the box"
   ]
  },
  {
   "cell_type": "code",
   "execution_count": null,
   "metadata": {},
   "outputs": [],
   "source": [
    "df = con.query_to_pandas(query)"
   ]
  },
  {
   "cell_type": "markdown",
   "metadata": {},
   "source": [
    "Now we create a traditional CMD, with the DES plotting parameters"
   ]
  },
  {
   "cell_type": "code",
   "execution_count": null,
   "metadata": {},
   "outputs": [],
   "source": [
    "plt.figure(figsize=(7,7))\n",
    "plt.plot(df.G_PSF-df.R_PSF,df.G_PSF,'k.')\n",
    "plt.xlim(-0.6,1.8)\n",
    "plt.ylim(24,16)\n",
    "plt.xlabel('G')\n",
    "plt.ylabel('G-R')"
   ]
  },
  {
   "cell_type": "code",
   "execution_count": null,
   "metadata": {},
   "outputs": [],
   "source": []
  }
 ],
 "metadata": {
  "kernelspec": {
   "display_name": "Python 3",
   "language": "python",
   "name": "python3"
  },
  "language_info": {
   "codemirror_mode": {
    "name": "ipython",
    "version": 3
   },
   "file_extension": ".py",
   "mimetype": "text/x-python",
   "name": "python",
   "nbconvert_exporter": "python",
   "pygments_lexer": "ipython3",
   "version": "3.6.3"
  }
 },
 "nbformat": 4,
 "nbformat_minor": 2
}
